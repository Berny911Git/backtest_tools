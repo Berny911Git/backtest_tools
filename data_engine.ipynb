{
 "cells": [
  {
   "cell_type": "code",
   "execution_count": 1,
   "metadata": {},
   "outputs": [
    {
     "name": "stdout",
     "output_type": "stream",
     "text": [
      "\tRécupération pour la paire BTC/USDT en timeframe 1h sur l'exchange binance...\n"
     ]
    },
    {
     "data": {
      "application/vnd.jupyter.widget-view+json": {
       "model_id": "ad7f0d1b88034e10bd123f1881ce77c9",
       "version_major": 2,
       "version_minor": 0
      },
      "text/plain": [
       "  0%|          | 0/54 [00:00<?, ?it/s]"
      ]
     },
     "metadata": {},
     "output_type": "display_data"
    },
    {
     "name": "stdout",
     "output_type": "stream",
     "text": [
      "\u001b[H\u001b[J\tRécupération pour la paire ETH/USDT en timeframe 1h sur l'exchange binance...\n"
     ]
    },
    {
     "data": {
      "application/vnd.jupyter.widget-view+json": {
       "model_id": "9fcdba0d51004537a40e1236365d37f0",
       "version_major": 2,
       "version_minor": 0
      },
      "text/plain": [
       "  0%|          | 0/54 [00:00<?, ?it/s]"
      ]
     },
     "metadata": {},
     "output_type": "display_data"
    },
    {
     "name": "stdout",
     "output_type": "stream",
     "text": [
      "\u001b[H\u001b[J\tRécupération pour la paire BNB/USDT en timeframe 1h sur l'exchange binance...\n"
     ]
    },
    {
     "data": {
      "application/vnd.jupyter.widget-view+json": {
       "model_id": "70b622ae9ced42229496ad1c0765b9ea",
       "version_major": 2,
       "version_minor": 0
      },
      "text/plain": [
       "  0%|          | 0/54 [00:00<?, ?it/s]"
      ]
     },
     "metadata": {},
     "output_type": "display_data"
    },
    {
     "name": "stdout",
     "output_type": "stream",
     "text": [
      "\u001b[H\u001b[J\tRécupération pour la paire XRP/USDT en timeframe 1h sur l'exchange binance...\n"
     ]
    },
    {
     "data": {
      "application/vnd.jupyter.widget-view+json": {
       "model_id": "ea4be5c8d1aa43109a5eef987f45b62c",
       "version_major": 2,
       "version_minor": 0
      },
      "text/plain": [
       "  0%|          | 0/54 [00:00<?, ?it/s]"
      ]
     },
     "metadata": {},
     "output_type": "display_data"
    },
    {
     "name": "stdout",
     "output_type": "stream",
     "text": [
      "\u001b[H\u001b[J\tRécupération pour la paire SOL/USDT en timeframe 1h sur l'exchange binance...\n"
     ]
    },
    {
     "data": {
      "application/vnd.jupyter.widget-view+json": {
       "model_id": "195b8b69855c42de99809afeab6a6a03",
       "version_major": 2,
       "version_minor": 0
      },
      "text/plain": [
       "  0%|          | 0/54 [00:00<?, ?it/s]"
      ]
     },
     "metadata": {},
     "output_type": "display_data"
    },
    {
     "name": "stdout",
     "output_type": "stream",
     "text": [
      "\u001b[H\u001b[J"
     ]
    }
   ],
   "source": [
    "import sys\n",
    "sys.path.append('./')\n",
    "from utilities.data_manager import ExchangeDataManager\n",
    "\n",
    "exchange_name = \"binance\"\n",
    "\n",
    "intervals = [\"1h\"]\n",
    "\n",
    "coin_to_dl = [\"BTC/USDT\", \"ETH/USDT\", \"BNB/USDT\", \"XRP/USDT\", \"SOL/USDT\"]\n",
    "\n",
    "exchange = ExchangeDataManager(\n",
    "    exchange_name=exchange_name, \n",
    "    path_download=\"./database/exchanges\"\n",
    ")\n",
    "\n",
    "await exchange.download_data(\n",
    "    coins=coin_to_dl, \n",
    "    intervals=intervals\n",
    ")"
   ]
  },
  {
   "cell_type": "code",
   "execution_count": 2,
   "metadata": {},
   "outputs": [
    {
     "data": {
      "text/html": [
       "<div>\n",
       "<style scoped>\n",
       "    .dataframe tbody tr th:only-of-type {\n",
       "        vertical-align: middle;\n",
       "    }\n",
       "\n",
       "    .dataframe tbody tr th {\n",
       "        vertical-align: top;\n",
       "    }\n",
       "\n",
       "    .dataframe thead th {\n",
       "        text-align: right;\n",
       "    }\n",
       "</style>\n",
       "<table border=\"1\" class=\"dataframe\">\n",
       "  <thead>\n",
       "    <tr style=\"text-align: right;\">\n",
       "      <th></th>\n",
       "      <th>open</th>\n",
       "      <th>high</th>\n",
       "      <th>low</th>\n",
       "      <th>close</th>\n",
       "      <th>volume</th>\n",
       "    </tr>\n",
       "    <tr>\n",
       "      <th>date</th>\n",
       "      <th></th>\n",
       "      <th></th>\n",
       "      <th></th>\n",
       "      <th></th>\n",
       "      <th></th>\n",
       "    </tr>\n",
       "  </thead>\n",
       "  <tbody>\n",
       "    <tr>\n",
       "      <th>2017-08-17 04:00:00</th>\n",
       "      <td>4261.48</td>\n",
       "      <td>4313.62</td>\n",
       "      <td>4261.32</td>\n",
       "      <td>4308.83</td>\n",
       "      <td>47.181009</td>\n",
       "    </tr>\n",
       "    <tr>\n",
       "      <th>2017-08-17 05:00:00</th>\n",
       "      <td>4308.83</td>\n",
       "      <td>4328.69</td>\n",
       "      <td>4291.37</td>\n",
       "      <td>4315.32</td>\n",
       "      <td>23.234916</td>\n",
       "    </tr>\n",
       "    <tr>\n",
       "      <th>2017-08-17 06:00:00</th>\n",
       "      <td>4330.29</td>\n",
       "      <td>4345.45</td>\n",
       "      <td>4309.37</td>\n",
       "      <td>4324.35</td>\n",
       "      <td>7.229691</td>\n",
       "    </tr>\n",
       "    <tr>\n",
       "      <th>2017-08-17 07:00:00</th>\n",
       "      <td>4316.62</td>\n",
       "      <td>4349.99</td>\n",
       "      <td>4287.41</td>\n",
       "      <td>4349.99</td>\n",
       "      <td>4.443249</td>\n",
       "    </tr>\n",
       "    <tr>\n",
       "      <th>2017-08-17 08:00:00</th>\n",
       "      <td>4333.32</td>\n",
       "      <td>4377.85</td>\n",
       "      <td>4333.32</td>\n",
       "      <td>4360.69</td>\n",
       "      <td>0.972807</td>\n",
       "    </tr>\n",
       "    <tr>\n",
       "      <th>...</th>\n",
       "      <td>...</td>\n",
       "      <td>...</td>\n",
       "      <td>...</td>\n",
       "      <td>...</td>\n",
       "      <td>...</td>\n",
       "    </tr>\n",
       "    <tr>\n",
       "      <th>2023-01-23 09:00:00</th>\n",
       "      <td>22719.28</td>\n",
       "      <td>22788.00</td>\n",
       "      <td>22703.26</td>\n",
       "      <td>22784.18</td>\n",
       "      <td>6806.103800</td>\n",
       "    </tr>\n",
       "    <tr>\n",
       "      <th>2023-01-23 10:00:00</th>\n",
       "      <td>22784.85</td>\n",
       "      <td>22957.25</td>\n",
       "      <td>22764.91</td>\n",
       "      <td>22909.95</td>\n",
       "      <td>12356.087740</td>\n",
       "    </tr>\n",
       "    <tr>\n",
       "      <th>2023-01-23 11:00:00</th>\n",
       "      <td>22909.95</td>\n",
       "      <td>22930.00</td>\n",
       "      <td>22826.23</td>\n",
       "      <td>22904.58</td>\n",
       "      <td>10145.716830</td>\n",
       "    </tr>\n",
       "    <tr>\n",
       "      <th>2023-01-23 12:00:00</th>\n",
       "      <td>22904.58</td>\n",
       "      <td>22978.00</td>\n",
       "      <td>22808.90</td>\n",
       "      <td>22910.74</td>\n",
       "      <td>11855.320510</td>\n",
       "    </tr>\n",
       "    <tr>\n",
       "      <th>2023-01-23 13:00:00</th>\n",
       "      <td>22911.60</td>\n",
       "      <td>22939.49</td>\n",
       "      <td>22668.43</td>\n",
       "      <td>22798.41</td>\n",
       "      <td>16043.497640</td>\n",
       "    </tr>\n",
       "  </tbody>\n",
       "</table>\n",
       "<p>47523 rows × 5 columns</p>\n",
       "</div>"
      ],
      "text/plain": [
       "                         open      high       low     close        volume\n",
       "date                                                                     \n",
       "2017-08-17 04:00:00   4261.48   4313.62   4261.32   4308.83     47.181009\n",
       "2017-08-17 05:00:00   4308.83   4328.69   4291.37   4315.32     23.234916\n",
       "2017-08-17 06:00:00   4330.29   4345.45   4309.37   4324.35      7.229691\n",
       "2017-08-17 07:00:00   4316.62   4349.99   4287.41   4349.99      4.443249\n",
       "2017-08-17 08:00:00   4333.32   4377.85   4333.32   4360.69      0.972807\n",
       "...                       ...       ...       ...       ...           ...\n",
       "2023-01-23 09:00:00  22719.28  22788.00  22703.26  22784.18   6806.103800\n",
       "2023-01-23 10:00:00  22784.85  22957.25  22764.91  22909.95  12356.087740\n",
       "2023-01-23 11:00:00  22909.95  22930.00  22826.23  22904.58  10145.716830\n",
       "2023-01-23 12:00:00  22904.58  22978.00  22808.90  22910.74  11855.320510\n",
       "2023-01-23 13:00:00  22911.60  22939.49  22668.43  22798.41  16043.497640\n",
       "\n",
       "[47523 rows x 5 columns]"
      ]
     },
     "execution_count": 2,
     "metadata": {},
     "output_type": "execute_result"
    }
   ],
   "source": [
    "exchange_name = \"binance\"\n",
    "\n",
    "exchange = ExchangeDataManager(\n",
    "    exchange_name=exchange_name, \n",
    "    path_download=\"./database/exchanges\"\n",
    ")\n",
    "\n",
    "exchange.load_data(\n",
    "    coin=\"BTC/USDT\", \n",
    "    interval=\"1h\"\n",
    ")"
   ]
  },
  {
   "cell_type": "code",
   "execution_count": 3,
   "metadata": {},
   "outputs": [
    {
     "data": {
      "text/html": [
       "<div>\n",
       "<style scoped>\n",
       "    .dataframe tbody tr th:only-of-type {\n",
       "        vertical-align: middle;\n",
       "    }\n",
       "\n",
       "    .dataframe tbody tr th {\n",
       "        vertical-align: top;\n",
       "    }\n",
       "\n",
       "    .dataframe thead th {\n",
       "        text-align: right;\n",
       "    }\n",
       "</style>\n",
       "<table border=\"1\" class=\"dataframe\">\n",
       "  <thead>\n",
       "    <tr style=\"text-align: right;\">\n",
       "      <th></th>\n",
       "      <th>exchange</th>\n",
       "      <th>timeframe</th>\n",
       "      <th>pair</th>\n",
       "      <th>occurences</th>\n",
       "      <th>start_date</th>\n",
       "      <th>end_date</th>\n",
       "    </tr>\n",
       "  </thead>\n",
       "  <tbody>\n",
       "    <tr>\n",
       "      <th>0</th>\n",
       "      <td>binance</td>\n",
       "      <td>1h</td>\n",
       "      <td>BNB-USDT</td>\n",
       "      <td>45587</td>\n",
       "      <td>2017-11-06 04:00:00</td>\n",
       "      <td>2023-01-23 15:00:00</td>\n",
       "    </tr>\n",
       "    <tr>\n",
       "      <th>1</th>\n",
       "      <td>binance</td>\n",
       "      <td>1h</td>\n",
       "      <td>BTC-USDT</td>\n",
       "      <td>47524</td>\n",
       "      <td>2017-08-17 06:00:00</td>\n",
       "      <td>2023-01-23 15:00:00</td>\n",
       "    </tr>\n",
       "    <tr>\n",
       "      <th>2</th>\n",
       "      <td>binance</td>\n",
       "      <td>1h</td>\n",
       "      <td>ETH-USDT</td>\n",
       "      <td>47524</td>\n",
       "      <td>2017-08-17 06:00:00</td>\n",
       "      <td>2023-01-23 15:00:00</td>\n",
       "    </tr>\n",
       "    <tr>\n",
       "      <th>3</th>\n",
       "      <td>binance</td>\n",
       "      <td>1h</td>\n",
       "      <td>SOL-USDT</td>\n",
       "      <td>21470</td>\n",
       "      <td>2020-08-11 08:00:00</td>\n",
       "      <td>2023-01-23 15:00:00</td>\n",
       "    </tr>\n",
       "    <tr>\n",
       "      <th>4</th>\n",
       "      <td>binance</td>\n",
       "      <td>1h</td>\n",
       "      <td>XRP-USDT</td>\n",
       "      <td>41320</td>\n",
       "      <td>2018-05-04 10:00:00</td>\n",
       "      <td>2023-01-23 15:00:00</td>\n",
       "    </tr>\n",
       "  </tbody>\n",
       "</table>\n",
       "</div>"
      ],
      "text/plain": [
       "  exchange timeframe      pair  occurences           start_date  \\\n",
       "0  binance        1h  BNB-USDT       45587  2017-11-06 04:00:00   \n",
       "1  binance        1h  BTC-USDT       47524  2017-08-17 06:00:00   \n",
       "2  binance        1h  ETH-USDT       47524  2017-08-17 06:00:00   \n",
       "3  binance        1h  SOL-USDT       21470  2020-08-11 08:00:00   \n",
       "4  binance        1h  XRP-USDT       41320  2018-05-04 10:00:00   \n",
       "\n",
       "              end_date  \n",
       "0  2023-01-23 15:00:00  \n",
       "1  2023-01-23 15:00:00  \n",
       "2  2023-01-23 15:00:00  \n",
       "3  2023-01-23 15:00:00  \n",
       "4  2023-01-23 15:00:00  "
      ]
     },
     "execution_count": 3,
     "metadata": {},
     "output_type": "execute_result"
    }
   ],
   "source": [
    "exchange.explore_data()"
   ]
  }
 ],
 "metadata": {
  "kernelspec": {
   "display_name": "Python 3.10.2 ('.venv': venv)",
   "language": "python",
   "name": "python3"
  },
  "language_info": {
   "codemirror_mode": {
    "name": "ipython",
    "version": 3
   },
   "file_extension": ".py",
   "mimetype": "text/x-python",
   "name": "python",
   "nbconvert_exporter": "python",
   "pygments_lexer": "ipython3",
   "version": "3.10.2"
  },
  "vscode": {
   "interpreter": {
    "hash": "d5100c10c6b669a578e86ed43dbb636d25e3c9fb9ee424ec9e5e4bad34e2e434"
   }
  }
 },
 "nbformat": 4,
 "nbformat_minor": 2
}
